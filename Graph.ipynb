# Import our libraries 

# Pandas and numpy for data wrangling
import pandas as pd
import numpy as np

# Seaborn / matplotlib for visualization 
import seaborn as sns
sns.set()
import matplotlib.pyplot as plt
%matplotlib inline

# Import the trees from sklearn
from sklearn import tree

# Helper function to split our data
from sklearn.model_selection import train_test_split

# Helper fuctions to evaluate our model.
from sklearn.metrics import accuracy_score, precision_score, recall_score, confusion_matrix, f1_score, roc_auc_score 

# Helper function for hyper-parameter turning.
from sklearn.model_selection import GridSearchCV

# Import our Decision Tree
from sklearn.tree import DecisionTreeClassifier 

# Import our Random Forest 
from sklearn.ensemble import RandomForestClassifier

# Library for visualizing our tree
# If you get an error, run 'conda install python-graphviz' in your terminal
import graphviz



index= np.arange(len(payment))
score_label= np.arange(0,25000,3000)

cash_mean= list(dataset.T['Cash loans'])
consumer_mean= list(dataset.T['Consumer loans'])
revolving_mean= list(dataset.T['Revolving loans'])
XNA_mean= list(dataset.T['XNA'])

bar_w = 0.5

fig, ax = plt.subplots()
barCash= ax.bar(index -bar_w/10, cash_mean, bar_w, label = 'Cash means')
barConsumer= ax.bar(index +bar_w/10, consumer_mean, bar_w, label = 'Consumer means')
barRevolving= ax.bar(index +bar_w/10, revolving_mean, bar_w, label = 'Revolving means')
barXNA= ax.bar(index +bar_w/10, XNA_mean, bar_w, label = 'XNA means')



# Insert X-Axix 
ax.set_xticks(index)
ax.set_xticklabels(payment)
# Insert Y-Axix 
#ax.set_yticks(score_label)
#ax.set_yticklabels(score_label)


#Show labels 
ax.legend()
